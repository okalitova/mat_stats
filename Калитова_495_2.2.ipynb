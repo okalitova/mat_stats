{
 "cells": [
  {
   "cell_type": "code",
   "execution_count": 24,
   "metadata": {
    "collapsed": true
   },
   "outputs": [],
   "source": [
    "import pandas as pd\n",
    "import scipy.stats as sts\n",
    "import numpy as np\n",
    "import matplotlib.pyplot as plt\n",
    "%matplotlib inline"
   ]
  },
  {
   "cell_type": "markdown",
   "metadata": {},
   "source": [
    "В файле Cauchy.txt находятся координаты точек пересечения лучей с поверхностью Земли."
   ]
  },
  {
   "cell_type": "code",
   "execution_count": 25,
   "metadata": {
    "collapsed": false
   },
   "outputs": [],
   "source": [
    "cauchy = pd.read_csv('cauchy.txt')\n",
    "cauchy = np.array(cauchy)\n",
    "N = np.size(cauchy)"
   ]
  },
  {
   "cell_type": "markdown",
   "metadata": {},
   "source": [
    "Оцените параметр сдвига методом максимального правдоподобия a) по половине выборки (первые [𝑁/2] элементов выборки); б) по всей выборке. Оценку произведите по сетке (т.е. возьмите набор точек с некоторым шагом и верните ту, на которой достигается максимум функции правдоподобия). Известно, что параметр сдвига принадлежит интервалу [−1000, 1000]. Выберите шаг 0.01."
   ]
  },
  {
   "cell_type": "code",
   "execution_count": 26,
   "metadata": {
    "collapsed": false
   },
   "outputs": [
    {
     "name": "stdout",
     "output_type": "stream",
     "text": [
      "x0 is -36.6000000009\n",
      "x0 is -36.6300000009\n"
     ]
    }
   ],
   "source": [
    "x = np.arange(-1000, 1000.01, 0.01)\n",
    "theta = 1\n",
    "INF = 1e8\n",
    "for data in (cauchy[:(N / 2)], cauchy):\n",
    "    maxf = -INF\n",
    "    for cur_x in x:\n",
    "        distribution = sts.cauchy(cur_x, theta)\n",
    "        cur = np.sum(np.log(distribution.pdf(data)))\n",
    "        if cur > maxf:\n",
    "            x0 = cur_x\n",
    "            maxf = cur\n",
    "    print \"x0 is\", x0\n",
    "    "
   ]
  },
  {
   "cell_type": "markdown",
   "metadata": {},
   "source": [
    " В файле Weibull.txt находятся соответствующие измерения."
   ]
  },
  {
   "cell_type": "code",
   "execution_count": 27,
   "metadata": {
    "collapsed": false
   },
   "outputs": [],
   "source": [
    "weibull = pd.read_csv('weibull.txt')\n",
    "weibull = np.array(weibull)\n",
    "N = np.size(weibull)"
   ]
  },
  {
   "cell_type": "markdown",
   "metadata": {},
   "source": [
    "Считается, что величина 𝑋 = 𝑋1 − 𝑋2 имеет распределение Вейбулла с функцией распределения (1 − 𝑒^(−𝑥^𝛾))𝐼(𝑥 ≥ 0), где 𝛾 > 0 — параметр формы."
   ]
  },
  {
   "cell_type": "code",
   "execution_count": 28,
   "metadata": {
    "collapsed": false
   },
   "outputs": [],
   "source": [
    "class weibull_gen(sts.rv_continuous):\n",
    "    def _cdf(self, x, lam):\n",
    "        return 1 - np.exp(-x ** lam)\n",
    "    \n",
    "distribution = weibull_gen(a=0, name=\"weibull\")"
   ]
  },
  {
   "cell_type": "markdown",
   "metadata": {},
   "source": [
    "Оцените параметр формы методом максимального правдоподобия a) по первым 4 годам; б) по всей выборке. Оценку произведите по сетке (в логарифмической шкале). Известно, что log10 𝛾 ∈ [−2, 2]. Выберите шаг 10^(−3)."
   ]
  },
  {
   "cell_type": "code",
   "execution_count": 29,
   "metadata": {
    "collapsed": false
   },
   "outputs": [
    {
     "name": "stdout",
     "output_type": "stream",
     "text": [
      "lambda is 11.9398810446\n",
      "lambda is 11.5877735615\n"
     ]
    }
   ],
   "source": [
    "x = np.arange(-2, 2.001, 0.001)\n",
    "for data in (weibull[:(N * 2 / 5)], weibull):\n",
    "    maxf = -INF\n",
    "    for log_lam in x:\n",
    "        lam = 10 ** log_lam\n",
    "        cur = np.sum(np.log(distribution.pdf(data, lam)))\n",
    "        if cur > maxf:\n",
    "            lam0 = lam\n",
    "            maxf = cur\n",
    "    print \"lambda is\", lam0"
   ]
  },
  {
   "cell_type": "code",
   "execution_count": null,
   "metadata": {
    "collapsed": true
   },
   "outputs": [],
   "source": []
  }
 ],
 "metadata": {
  "kernelspec": {
   "display_name": "Python 2",
   "language": "python",
   "name": "python2"
  },
  "language_info": {
   "codemirror_mode": {
    "name": "ipython",
    "version": 2
   },
   "file_extension": ".py",
   "mimetype": "text/x-python",
   "name": "python",
   "nbconvert_exporter": "python",
   "pygments_lexer": "ipython2",
   "version": "2.7.11"
  }
 },
 "nbformat": 4,
 "nbformat_minor": 0
}
